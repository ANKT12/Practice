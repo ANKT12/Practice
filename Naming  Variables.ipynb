{
 "cells": [
  {
   "cell_type": "markdown",
   "id": "f9aa4dcc",
   "metadata": {},
   "source": [
    "# Variables\n",
    "## variables are containers for storing values "
   ]
  },
  {
   "cell_type": "code",
   "execution_count": 16,
   "id": "77ec84dc",
   "metadata": {},
   "outputs": [
    {
     "data": {
      "text/plain": [
       "'Ankit'"
      ]
     },
     "execution_count": 16,
     "metadata": {},
     "output_type": "execute_result"
    }
   ],
   "source": [
    "Name= 'Ankit'\n",
    "Name"
   ]
  },
  {
   "cell_type": "code",
   "execution_count": 17,
   "id": "87a0306c",
   "metadata": {},
   "outputs": [
    {
     "ename": "NameError",
     "evalue": "name 'name' is not defined",
     "output_type": "error",
     "traceback": [
      "\u001b[1;31m---------------------------------------------------------------------------\u001b[0m",
      "\u001b[1;31mNameError\u001b[0m                                 Traceback (most recent call last)",
      "\u001b[1;32m~\\AppData\\Local\\Temp/ipykernel_9116/2193164152.py\u001b[0m in \u001b[0;36m<module>\u001b[1;34m\u001b[0m\n\u001b[1;32m----> 1\u001b[1;33m \u001b[0mname\u001b[0m \u001b[1;31m### variables are case sensitive\u001b[0m\u001b[1;33m\u001b[0m\u001b[1;33m\u001b[0m\u001b[0m\n\u001b[0m",
      "\u001b[1;31mNameError\u001b[0m: name 'name' is not defined"
     ]
    }
   ],
   "source": [
    "name ### variables are case sensitive"
   ]
  },
  {
   "cell_type": "code",
   "execution_count": 18,
   "id": "f28bda5f",
   "metadata": {},
   "outputs": [
    {
     "ename": "SyntaxError",
     "evalue": "invalid syntax (Temp/ipykernel_9116/515786101.py, line 1)",
     "output_type": "error",
     "traceback": [
      "\u001b[1;36m  File \u001b[1;32m\"C:\\Users\\ANKT0\\AppData\\Local\\Temp/ipykernel_9116/515786101.py\"\u001b[1;36m, line \u001b[1;32m1\u001b[0m\n\u001b[1;33m    1Name= 'Ankit'  ###  variable should not start with a number\u001b[0m\n\u001b[1;37m     ^\u001b[0m\n\u001b[1;31mSyntaxError\u001b[0m\u001b[1;31m:\u001b[0m invalid syntax\n"
     ]
    }
   ],
   "source": [
    "1Name= 'Ankit'  ###  variable should not start with a number"
   ]
  },
  {
   "cell_type": "code",
   "execution_count": 19,
   "id": "5a05f931",
   "metadata": {
    "scrolled": true
   },
   "outputs": [
    {
     "data": {
      "text/plain": [
       "'ankit'"
      ]
     },
     "execution_count": 19,
     "metadata": {},
     "output_type": "execute_result"
    }
   ],
   "source": [
    "Name1= 'ankit'\n",
    "Name1"
   ]
  },
  {
   "cell_type": "code",
   "execution_count": 20,
   "id": "008ba6ff",
   "metadata": {},
   "outputs": [
    {
     "ename": "TypeError",
     "evalue": "unsupported operand type(s) for @=: 'str' and 'str'",
     "output_type": "error",
     "traceback": [
      "\u001b[1;31m---------------------------------------------------------------------------\u001b[0m",
      "\u001b[1;31mTypeError\u001b[0m                                 Traceback (most recent call last)",
      "\u001b[1;32m~\\AppData\\Local\\Temp/ipykernel_9116/931311714.py\u001b[0m in \u001b[0;36m<module>\u001b[1;34m\u001b[0m\n\u001b[1;32m----> 1\u001b[1;33m \u001b[0mName\u001b[0m\u001b[1;33m@=\u001b[0m \u001b[1;34m'ankit'\u001b[0m \u001b[1;31m### no special character allowed other than underscore\u001b[0m\u001b[1;33m\u001b[0m\u001b[1;33m\u001b[0m\u001b[0m\n\u001b[0m",
      "\u001b[1;31mTypeError\u001b[0m: unsupported operand type(s) for @=: 'str' and 'str'"
     ]
    }
   ],
   "source": [
    "Name@= 'ankit' ### no special character allowed other than underscore\n"
   ]
  },
  {
   "cell_type": "code",
   "execution_count": 21,
   "id": "9dd23239",
   "metadata": {},
   "outputs": [
    {
     "data": {
      "text/plain": [
       "'Ankit '"
      ]
     },
     "execution_count": 21,
     "metadata": {},
     "output_type": "execute_result"
    }
   ],
   "source": [
    "name_123= 'Ankit '\n",
    "name_123"
   ]
  },
  {
   "cell_type": "code",
   "execution_count": 22,
   "id": "13ba2f90",
   "metadata": {},
   "outputs": [
    {
     "data": {
      "text/plain": [
       "'ankit'"
      ]
     },
     "execution_count": 22,
     "metadata": {},
     "output_type": "execute_result"
    }
   ],
   "source": [
    "Nick_Name= 'ankit'\n",
    "Nick_Name"
   ]
  },
  {
   "cell_type": "markdown",
   "id": "df5fb543",
   "metadata": {},
   "source": [
    "### variable names can start with a-z , A-Z , _\n",
    "### operators/spl characters are not allowed other than underscore\n",
    "### variables are case sensitive\n",
    "### space is not allowed"
   ]
  },
  {
   "cell_type": "code",
   "execution_count": null,
   "id": "f6d793eb",
   "metadata": {},
   "outputs": [],
   "source": []
  }
 ],
 "metadata": {
  "kernelspec": {
   "display_name": "Python 3 (ipykernel)",
   "language": "python",
   "name": "python3"
  },
  "language_info": {
   "codemirror_mode": {
    "name": "ipython",
    "version": 3
   },
   "file_extension": ".py",
   "mimetype": "text/x-python",
   "name": "python",
   "nbconvert_exporter": "python",
   "pygments_lexer": "ipython3",
   "version": "3.9.7"
  }
 },
 "nbformat": 4,
 "nbformat_minor": 5
}
